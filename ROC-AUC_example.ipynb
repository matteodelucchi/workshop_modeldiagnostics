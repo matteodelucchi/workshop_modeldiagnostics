{
 "cells": [
  {
   "cell_type": "code",
   "execution_count": 90,
   "metadata": {},
   "outputs": [
    {
     "name": "stdout",
     "output_type": "stream",
     "text": [
      "[1, 1, 1, 1, 1, 1, 1, 1, 1, 1]\n"
     ]
    }
   ],
   "source": [
    "x = [0.1, 1.1, 2.6,3.3,4.9,5.2,6.5,7.3,8.5,9.3]\n",
    "y = [0,0,0,0,0,0,1,1,1,1]\n",
    "theta = [0,5,10]\n",
    "\n",
    "\n",
    "def classifier(x, theta):\n",
    "    if x < theta:\n",
    "        return 0\n",
    "    elif x >= theta:\n",
    "        return 1\n",
    "\n",
    "\n",
    "yhat_0 = []\n",
    "for i in x:\n",
    "    yhat_0.append(classifier(i,0))\n",
    "print(yhat_0)"
   ]
  },
  {
   "cell_type": "code",
   "execution_count": 91,
   "metadata": {},
   "outputs": [
    {
     "name": "stdout",
     "output_type": "stream",
     "text": [
      "[0, 0, 0, 0, 0, 1, 1, 1, 1, 1]\n"
     ]
    }
   ],
   "source": [
    "yhat_5 = []\n",
    "for i in x:\n",
    "    yhat_5.append(classifier(i,5))\n",
    "print(yhat_5)"
   ]
  },
  {
   "cell_type": "code",
   "execution_count": 92,
   "metadata": {},
   "outputs": [
    {
     "name": "stdout",
     "output_type": "stream",
     "text": [
      "[0, 0, 0, 0, 0, 0, 0, 0, 0, 0]\n"
     ]
    }
   ],
   "source": [
    "yhat_10 = []\n",
    "for i in x:\n",
    "    yhat_10.append(classifier(i,10))\n",
    "print(yhat_10)"
   ]
  },
  {
   "cell_type": "code",
   "execution_count": 93,
   "metadata": {},
   "outputs": [
    {
     "name": "stdout",
     "output_type": "stream",
     "text": [
      "0 0\n",
      "0 0\n",
      "0 0\n",
      "0 0\n",
      "0 0\n",
      "0 1\n",
      "1 1\n",
      "1 1\n",
      "1 1\n",
      "1 1\n",
      "4 1 0 5\n"
     ]
    }
   ],
   "source": [
    "TP = 0\n",
    "FP = 0\n",
    "FN = 0\n",
    "TN = 0\n",
    "for i,j in zip(y,yhat_5):\n",
    "        print(i,j)\n",
    "        if i == 1 and j == 1:\n",
    "            TP += 1\n",
    "        elif i == 0 and j == 0:\n",
    "            TN += 1\n",
    "        elif i == 1 and j == 0:\n",
    "            FN += 1\n",
    "        elif i == 0 and j == 1:\n",
    "            FP +=1\n",
    "print(TP, FP, FN, TN)"
   ]
  },
  {
   "cell_type": "code",
   "execution_count": 94,
   "metadata": {},
   "outputs": [
    {
     "name": "stdout",
     "output_type": "stream",
     "text": [
      "4 1 0 5\n"
     ]
    }
   ],
   "source": [
    "def true_posNeg_rate(y, yhat):\n",
    "    TP = 0\n",
    "    FP = 0\n",
    "    FN = 0\n",
    "    TN = 0\n",
    "    for i,j in zip(y,yhat):\n",
    "        if i==j and i == 1 and j == 1:\n",
    "            TP += 1\n",
    "        elif i == j and i == 0 and j == 0:\n",
    "            TN += 1\n",
    "        elif i == 1 and j == 0:\n",
    "            FN += 1\n",
    "        elif i == 0 and j == 1:\n",
    "            FP +=1\n",
    "            \n",
    "    return TP, FP, FN, TN\n",
    "TP, FP, FN, TN = true_posNeg_rate(y,yhat_5)\n",
    "print(TP, FP, FN, TN)"
   ]
  },
  {
   "cell_type": "code",
   "execution_count": 95,
   "metadata": {},
   "outputs": [
    {
     "name": "stdout",
     "output_type": "stream",
     "text": [
      "0.9\n"
     ]
    }
   ],
   "source": [
    "def accuracy(TP, FP, FN, TN):\n",
    "    return((TP+TN)/(TP+FP+FN+TN))\n",
    "acc_5 = accuracy(TP, FP, FN, TN)\n",
    "print(acc_5)"
   ]
  },
  {
   "cell_type": "code",
   "execution_count": 96,
   "metadata": {},
   "outputs": [
    {
     "name": "stdout",
     "output_type": "stream",
     "text": [
      "1.0\n"
     ]
    }
   ],
   "source": [
    "def sensitivity(TP, FN):\n",
    "    return(TP/(TP+FN))\n",
    "TPR_5 = sensitivity(TP, FN)\n",
    "print(TPR_5)"
   ]
  },
  {
   "cell_type": "code",
   "execution_count": 97,
   "metadata": {},
   "outputs": [
    {
     "name": "stdout",
     "output_type": "stream",
     "text": [
      "0.8333333333333334\n"
     ]
    }
   ],
   "source": [
    "def specificity(TN, FP):\n",
    "    return(TN/(TN+FP))\n",
    "TNR_5 = specificity(TN, FP)\n",
    "print(TNR_5)"
   ]
  },
  {
   "cell_type": "code",
   "execution_count": 98,
   "metadata": {},
   "outputs": [
    {
     "name": "stdout",
     "output_type": "stream",
     "text": [
      "0.8\n"
     ]
    }
   ],
   "source": [
    "def precision(TP, FP):\n",
    "    return(TP/(TP+FP))\n",
    "PPV_5 = precision(TP, FP)\n",
    "print(PPV_5)"
   ]
  },
  {
   "cell_type": "code",
   "execution_count": 102,
   "metadata": {},
   "outputs": [
    {
     "name": "stdout",
     "output_type": "stream",
     "text": [
      "range(0, 10)\n",
      "[1.0, 1.0, 1.0, 1.0, 1.0, 1.0, 1.0, 0.75, 0.5, 0.25]\n",
      "[1.0, 0.8333333333333334, 0.6666666666666667, 0.5, 0.33333333333333337, 0.16666666666666663, 0.0, 0.0, 0.0, 0.0]\n"
     ]
    }
   ],
   "source": [
    "# for theta between 0,10\n",
    "    # calculate yhat\n",
    "    # calculate TPR\n",
    "    # calculate FPR\n",
    "# draw plot of [FPR, TPR] for all thetas\n",
    "theta = range(0,10,1)\n",
    "TPR = []\n",
    "FPR = []\n",
    "for t in theta:\n",
    "    yhat = []\n",
    "    for i in x:\n",
    "        yhat.append(classifier(i,t))\n",
    "    \n",
    "    TP, FP, FN, TN = true_posNeg_rate(y,yhat)\n",
    "    \n",
    "    TPR.append(sensitivity(TP, FN))\n",
    "    FPR.append(1-specificity(TN, FP))\n",
    "\n",
    "print(theta) \n",
    "print(TPR)\n",
    "print(FPR)"
   ]
  },
  {
   "cell_type": "code",
   "execution_count": 103,
   "metadata": {
    "scrolled": false
   },
   "outputs": [
    {
     "data": {
      "text/plain": [
       "[<matplotlib.lines.Line2D at 0x7f2e4705b810>]"
      ]
     },
     "execution_count": 103,
     "metadata": {},
     "output_type": "execute_result"
    },
    {
     "data": {
      "image/png": "[encoded data removed]",
      "text/plain": [
       "<Figure size 432x288 with 1 Axes>"
      ]
     },
     "metadata": {
      "needs_background": "light"
     },
     "output_type": "display_data"
    }
   ],
   "source": [
    "import matplotlib.pyplot as plt\n",
    "plt.plot(FPR, TPR)"
   ]
  },
  {
   "cell_type": "code",
   "execution_count": 101,
   "metadata": {},
   "outputs": [
    {
     "data": {
      "text/plain": [
       "[0, 5, 10]"
      ]
     },
     "execution_count": 101,
     "metadata": {},
     "output_type": "execute_result"
    }
   ],
   "source": []
  }
 ],
 "metadata": {
  "kernelspec": {
   "display_name": "Python 3",
   "language": "python",
   "name": "python3"
  },
  "language_info": {
   "codemirror_mode": {
    "name": "ipython",
    "version": 3
   },
   "file_extension": ".py",
   "mimetype": "text/x-python",
   "name": "python",
   "nbconvert_exporter": "python",
   "pygments_lexer": "ipython3",
   "version": "3.7.4"
  }
 },
 "nbformat": 4,
 "nbformat_minor": 2
}
